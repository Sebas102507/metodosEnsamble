{
  "cells": [
    {
      "cell_type": "markdown",
      "metadata": {
        "id": "gmxl-r_xTd1A"
      },
      "source": [
        "# Métodos de ensamble en profundidad"
      ]
    },
    {
      "cell_type": "markdown",
      "metadata": {
        "id": "QoQdwGf7Td1E"
      },
      "source": [
        "<p><strong>Objetivo: </strong> El objetivo de este cuaderno es familiarizarse con las técnicas de ensamble, identificar en qué se diferencian entre ellas y lograr comparar sus resultados.   </p>"
      ]
    },
    {
      "cell_type": "markdown",
      "metadata": {
        "id": "_mvyqsjKTd1F"
      },
      "source": [
        "# Etapas preliminares"
      ]
    },
    {
      "cell_type": "code",
      "execution_count": null,
      "metadata": {
        "id": "U3GH5XjzTd1I"
      },
      "outputs": [],
      "source": [
        "import numpy as np \n",
        "import pandas as pd\n",
        "import matplotlib.pyplot as plt # Para graficar\n",
        "from sklearn.model_selection import train_test_split # Importa la función para dividir el conjunto de datos en train_test_split \n",
        "from sklearn import metrics #Importa metricas scikit-learn para el calculo del accuracy\n",
        "from sklearn import preprocessing #Importa funciones para el procesamiento de los datos\n",
        "from sklearn.metrics import confusion_matrix #Importa los métodos de cálculo de la matriz de confusión\n",
        "from sklearn.metrics import precision_recall_fscore_support # Importa módulos para calcular métricas a partir de la matriz de confusión\n",
        "from sklearn.preprocessing import MinMaxScaler # Importa métodos para normalizar usando minMax\n",
        "from sklearn.preprocessing import StandardScaler # Importa métodos para normalizar usando ZScore\n",
        "from sklearn.pipeline import make_pipeline # Importa métodos para hacer flujos sobre los datos\n",
        "from sklearn.pipeline import Pipeline"
      ]
    },
    {
      "cell_type": "markdown",
      "metadata": {
        "id": "lEAXCWR1Td1J"
      },
      "source": [
        "<p><strong>Paso: Cargar los datos </strong></br>\n",
        "A continuación cargaremos los datos que serán usados para entrenar y evaluar el modelo. La ruta de los datos puede variar. En caso en que tenga el archivo en el sistema de archivos de databricks (DBFS) podrá usar la opción 1. Si el archivo está en una dirección pública en internet podrá usar la opción 2. En la opción 1 deberá incluir la ruta en la que se encuentra el archivo en su sistema de archivos en DataBricks."
      ]
    },
    {
      "cell_type": "code",
      "execution_count": null,
      "metadata": {
        "id": "37eT2j46Td1J"
      },
      "outputs": [],
      "source": [
        "path = \"https://www.dropbox.com/s/kmsljv3eqfaf1tn/AdventureWorksPreparedRForest.csv?dl=1\"\n",
        "\n",
        "#Lectura del archivo csv\n",
        "df1 = pd.read_csv(path, sep=\";\", encoding = \"utf-8\", decimal=',')\n"
      ]
    },
    {
      "cell_type": "markdown",
      "metadata": {
        "id": "o29squC4Td1K"
      },
      "source": [
        "<p><strong>Paso: Explorar los datos </strong></br>\n",
        "Este paso es fundamental para ver los atributos que tenemos disponibles y las características de cada uno de los atributos. Así mismo, se debe revisar el tamaño de los datos y el estado de calidad para identificar posibles acciones de preparación."
      ]
    },
    {
      "cell_type": "code",
      "execution_count": null,
      "metadata": {
        "colab": {
          "base_uri": "https://localhost:8080/"
        },
        "id": "hf5ddIfQTd1L",
        "outputId": "5a1b24f7-9e0b-440a-a021-9b6fe9591c8b"
      },
      "outputs": [
        {
          "output_type": "stream",
          "name": "stdout",
          "text": [
            "Forma del conjunto de datos: \n",
            " (18484, 16)\n",
            "La descripción: \n",
            "           Unnamed: 0   EstadoCivil          Sexo IngresosAnuales TotalHijos  \\\n",
            "count   18484.000000  18484.000000  18484.000000           18484      18484   \n",
            "unique           NaN           NaN           NaN              16          6   \n",
            "top              NaN           NaN           NaN         60000.0        0.0   \n",
            "freq             NaN           NaN           NaN            3127       5165   \n",
            "mean     9241.500000      0.458396      0.505897             NaN        NaN   \n",
            "std      5336.015523      0.498280      0.499979             NaN        NaN   \n",
            "min         0.000000      0.000000      0.000000             NaN        NaN   \n",
            "25%      4620.750000      0.000000      0.000000             NaN        NaN   \n",
            "50%      9241.500000      0.000000      1.000000             NaN        NaN   \n",
            "75%     13862.250000      1.000000      1.000000             NaN        NaN   \n",
            "max     18483.000000      1.000000      1.000000             NaN        NaN   \n",
            "\n",
            "           Educacion TieneCasa NumeroCarros   Edad  DistanciaTrabajo  \\\n",
            "count   18484.000000     18484        18484  18484      18484.000000   \n",
            "unique           NaN         2            5     70               NaN   \n",
            "top              NaN       1.0          2.0   47.0               NaN   \n",
            "freq             NaN     12502         6457    674               NaN   \n",
            "mean        2.411545       NaN          NaN    NaN          1.665116   \n",
            "std         1.436012       NaN          NaN    NaN          1.516186   \n",
            "min         0.000000       NaN          NaN    NaN          0.000000   \n",
            "25%         1.000000       NaN          NaN    NaN          0.000000   \n",
            "50%         3.000000       NaN          NaN    NaN          1.000000   \n",
            "75%         4.000000       NaN          NaN    NaN          3.000000   \n",
            "max         4.000000       NaN          NaN    NaN          4.000000   \n",
            "\n",
            "        Ocu_Administrativo   Ocu_Gestión    Ocu_Obrero  \\\n",
            "count         18484.000000  18484.000000  18484.000000   \n",
            "unique                 NaN           NaN           NaN   \n",
            "top                    NaN           NaN           NaN   \n",
            "freq                   NaN           NaN           NaN   \n",
            "mean              0.158407      0.166360      0.128976   \n",
            "std               0.365132      0.372414      0.335183   \n",
            "min               0.000000      0.000000      0.000000   \n",
            "25%               0.000000      0.000000      0.000000   \n",
            "50%               0.000000      0.000000      0.000000   \n",
            "75%               0.000000      0.000000      0.000000   \n",
            "max               1.000000      1.000000      1.000000   \n",
            "\n",
            "        Ocu_Obrero especializado  Ocu_Profesional CompradorBicleta  \n",
            "count               18484.000000     18484.000000            18484  \n",
            "unique                       NaN              NaN                2  \n",
            "top                          NaN              NaN              0.0  \n",
            "freq                         NaN              NaN             9352  \n",
            "mean                    0.247620         0.298637              NaN  \n",
            "std                     0.431641         0.457673              NaN  \n",
            "min                     0.000000         0.000000              NaN  \n",
            "25%                     0.000000         0.000000              NaN  \n",
            "50%                     0.000000         0.000000              NaN  \n",
            "75%                     0.000000         1.000000              NaN  \n",
            "max                     1.000000         1.000000              NaN  \n",
            "Los tipos de datos: \n",
            " Unnamed: 0                   int64\n",
            "EstadoCivil                  int64\n",
            "Sexo                         int64\n",
            "IngresosAnuales             object\n",
            "TotalHijos                  object\n",
            "Educacion                    int64\n",
            "TieneCasa                   object\n",
            "NumeroCarros                object\n",
            "Edad                        object\n",
            "DistanciaTrabajo             int64\n",
            "Ocu_Administrativo           int64\n",
            "Ocu_Gestión                  int64\n",
            "Ocu_Obrero                   int64\n",
            "Ocu_Obrero especializado     int64\n",
            "Ocu_Profesional              int64\n",
            "CompradorBicleta            object\n",
            "dtype: object\n",
            "Los 5 primeros registros: \n",
            "    Unnamed: 0  EstadoCivil  Sexo IngresosAnuales TotalHijos  Educacion  \\\n",
            "0           0            0     1         90000.0        2.0          4   \n",
            "1           1            1     1         60000.0        3.0          4   \n",
            "2           2            0     1         60000.0        3.0          4   \n",
            "3           3            1     0         70000.0        0.0          4   \n",
            "4           4            1     0         80000.0        5.0          4   \n",
            "\n",
            "  TieneCasa NumeroCarros  Edad  DistanciaTrabajo  Ocu_Administrativo  \\\n",
            "0       1.0          0.0  49.0                 1                   0   \n",
            "1       0.0          1.0  49.0                 0                   0   \n",
            "2       1.0          1.0  49.0                 3                   0   \n",
            "3       0.0          1.0  47.0                 4                   0   \n",
            "4       1.0          4.0  46.0                 1                   0   \n",
            "\n",
            "   Ocu_Gestión  Ocu_Obrero  Ocu_Obrero especializado  Ocu_Profesional  \\\n",
            "0            0           0                         0                1   \n",
            "1            0           0                         0                1   \n",
            "2            0           0                         0                1   \n",
            "3            0           0                         0                1   \n",
            "4            0           0                         0                1   \n",
            "\n",
            "  CompradorBicleta  \n",
            "0              1.0  \n",
            "1              1.0  \n",
            "2              1.0  \n",
            "3              1.0  \n",
            "4              1.0  \n",
            "Los 5 últimos registros: \n",
            "        Unnamed: 0  EstadoCivil  Sexo IngresosAnuales TotalHijos  Educacion  \\\n",
            "18479       18479            0     1         30000.0        1.0          2   \n",
            "18480       18480            1     0         30000.0        3.0          2   \n",
            "18481       18481            1     1         30000.0        3.0          2   \n",
            "18482       18482            0     1         30000.0        3.0          4   \n",
            "18483       18483            0     1         30000.0        0.0          4   \n",
            "\n",
            "      TieneCasa NumeroCarros  Edad  DistanciaTrabajo  Ocu_Administrativo  \\\n",
            "18479       1.0          0.0  56.0                 0                   1   \n",
            "18480       1.0          0.0  54.0                 0                   1   \n",
            "18481       0.0          0.0  55.0                 0                   1   \n",
            "18482       1.0          0.0  56.0                 0                   1   \n",
            "18483       1.0          0.0  55.0                 0                   1   \n",
            "\n",
            "       Ocu_Gestión  Ocu_Obrero  Ocu_Obrero especializado  Ocu_Profesional  \\\n",
            "18479            0           0                         0                0   \n",
            "18480            0           0                         0                0   \n",
            "18481            0           0                         0                0   \n",
            "18482            0           0                         0                0   \n",
            "18483            0           0                         0                0   \n",
            "\n",
            "      CompradorBicleta  \n",
            "18479              1.0  \n",
            "18480              1.0  \n",
            "18481              1.0  \n",
            "18482              1.0  \n",
            "18483              1.0  \n"
          ]
        }
      ],
      "source": [
        "print(\"Forma del conjunto de datos: \\n\", df1.shape)\n",
        "print(\"La descripción: \\n\", df1.describe(include=\"all\"))\n",
        "print(\"Los tipos de datos: \\n\", df1.dtypes)\n",
        "print(\"Los 5 primeros registros: \\n\", df1.head())\n",
        "print(\"Los 5 últimos registros: \\n\", df1.tail())"
      ]
    },
    {
      "cell_type": "code",
      "execution_count": null,
      "metadata": {
        "id": "hU20s6j6Td1L"
      },
      "outputs": [],
      "source": [
        "#Dividiremos el conjunto de datos en característicias (features) y la variable objetivo (target)\n",
        "feature_cols = ['EstadoCivil', 'Sexo', 'IngresosAnuales', 'TotalHijos','Educacion','TieneCasa','NumeroCarros','Edad','DistanciaTrabajo', 'Ocu_Administrativo','Ocu_Gestión','Ocu_Obrero','Ocu_Obrero especializado','Ocu_Profesional']\n",
        "\n",
        "#Datos para la creación del clasificador Random Forest\n",
        "X = df1[feature_cols] # Features o Características que corresponde a las variables predictoras\n",
        "y = df1.CompradorBicleta # Target o variable objetivo\n"
      ]
    },
    {
      "cell_type": "code",
      "execution_count": null,
      "metadata": {
        "colab": {
          "base_uri": "https://localhost:8080/",
          "height": 505
        },
        "id": "iQgt5uHyTd1M",
        "outputId": "2ab948eb-3ba7-4782-a0df-efebb9e60fc3"
      },
      "outputs": [
        {
          "output_type": "execute_result",
          "data": {
            "text/plain": [
              "       EstadoCivil  Sexo IngresosAnuales TotalHijos  Educacion TieneCasa  \\\n",
              "0                0     1         90000.0        2.0          4       1.0   \n",
              "1                1     1         60000.0        3.0          4       0.0   \n",
              "2                0     1         60000.0        3.0          4       1.0   \n",
              "3                1     0         70000.0        0.0          4       0.0   \n",
              "4                1     0         80000.0        5.0          4       1.0   \n",
              "...            ...   ...             ...        ...        ...       ...   \n",
              "18479            0     1         30000.0        1.0          2       1.0   \n",
              "18480            1     0         30000.0        3.0          2       1.0   \n",
              "18481            1     1         30000.0        3.0          2       0.0   \n",
              "18482            0     1         30000.0        3.0          4       1.0   \n",
              "18483            0     1         30000.0        0.0          4       1.0   \n",
              "\n",
              "      NumeroCarros  Edad  DistanciaTrabajo  Ocu_Administrativo  Ocu_Gestión  \\\n",
              "0              0.0  49.0                 1                   0            0   \n",
              "1              1.0  49.0                 0                   0            0   \n",
              "2              1.0  49.0                 3                   0            0   \n",
              "3              1.0  47.0                 4                   0            0   \n",
              "4              4.0  46.0                 1                   0            0   \n",
              "...            ...   ...               ...                 ...          ...   \n",
              "18479          0.0  56.0                 0                   1            0   \n",
              "18480          0.0  54.0                 0                   1            0   \n",
              "18481          0.0  55.0                 0                   1            0   \n",
              "18482          0.0  56.0                 0                   1            0   \n",
              "18483          0.0  55.0                 0                   1            0   \n",
              "\n",
              "       Ocu_Obrero  Ocu_Obrero especializado  Ocu_Profesional  \n",
              "0               0                         0                1  \n",
              "1               0                         0                1  \n",
              "2               0                         0                1  \n",
              "3               0                         0                1  \n",
              "4               0                         0                1  \n",
              "...           ...                       ...              ...  \n",
              "18479           0                         0                0  \n",
              "18480           0                         0                0  \n",
              "18481           0                         0                0  \n",
              "18482           0                         0                0  \n",
              "18483           0                         0                0  \n",
              "\n",
              "[18484 rows x 14 columns]"
            ],
            "text/html": [
              "\n",
              "  <div id=\"df-0b599b37-7d7f-469f-9de8-e25ef7215389\">\n",
              "    <div class=\"colab-df-container\">\n",
              "      <div>\n",
              "<style scoped>\n",
              "    .dataframe tbody tr th:only-of-type {\n",
              "        vertical-align: middle;\n",
              "    }\n",
              "\n",
              "    .dataframe tbody tr th {\n",
              "        vertical-align: top;\n",
              "    }\n",
              "\n",
              "    .dataframe thead th {\n",
              "        text-align: right;\n",
              "    }\n",
              "</style>\n",
              "<table border=\"1\" class=\"dataframe\">\n",
              "  <thead>\n",
              "    <tr style=\"text-align: right;\">\n",
              "      <th></th>\n",
              "      <th>EstadoCivil</th>\n",
              "      <th>Sexo</th>\n",
              "      <th>IngresosAnuales</th>\n",
              "      <th>TotalHijos</th>\n",
              "      <th>Educacion</th>\n",
              "      <th>TieneCasa</th>\n",
              "      <th>NumeroCarros</th>\n",
              "      <th>Edad</th>\n",
              "      <th>DistanciaTrabajo</th>\n",
              "      <th>Ocu_Administrativo</th>\n",
              "      <th>Ocu_Gestión</th>\n",
              "      <th>Ocu_Obrero</th>\n",
              "      <th>Ocu_Obrero especializado</th>\n",
              "      <th>Ocu_Profesional</th>\n",
              "    </tr>\n",
              "  </thead>\n",
              "  <tbody>\n",
              "    <tr>\n",
              "      <th>0</th>\n",
              "      <td>0</td>\n",
              "      <td>1</td>\n",
              "      <td>90000.0</td>\n",
              "      <td>2.0</td>\n",
              "      <td>4</td>\n",
              "      <td>1.0</td>\n",
              "      <td>0.0</td>\n",
              "      <td>49.0</td>\n",
              "      <td>1</td>\n",
              "      <td>0</td>\n",
              "      <td>0</td>\n",
              "      <td>0</td>\n",
              "      <td>0</td>\n",
              "      <td>1</td>\n",
              "    </tr>\n",
              "    <tr>\n",
              "      <th>1</th>\n",
              "      <td>1</td>\n",
              "      <td>1</td>\n",
              "      <td>60000.0</td>\n",
              "      <td>3.0</td>\n",
              "      <td>4</td>\n",
              "      <td>0.0</td>\n",
              "      <td>1.0</td>\n",
              "      <td>49.0</td>\n",
              "      <td>0</td>\n",
              "      <td>0</td>\n",
              "      <td>0</td>\n",
              "      <td>0</td>\n",
              "      <td>0</td>\n",
              "      <td>1</td>\n",
              "    </tr>\n",
              "    <tr>\n",
              "      <th>2</th>\n",
              "      <td>0</td>\n",
              "      <td>1</td>\n",
              "      <td>60000.0</td>\n",
              "      <td>3.0</td>\n",
              "      <td>4</td>\n",
              "      <td>1.0</td>\n",
              "      <td>1.0</td>\n",
              "      <td>49.0</td>\n",
              "      <td>3</td>\n",
              "      <td>0</td>\n",
              "      <td>0</td>\n",
              "      <td>0</td>\n",
              "      <td>0</td>\n",
              "      <td>1</td>\n",
              "    </tr>\n",
              "    <tr>\n",
              "      <th>3</th>\n",
              "      <td>1</td>\n",
              "      <td>0</td>\n",
              "      <td>70000.0</td>\n",
              "      <td>0.0</td>\n",
              "      <td>4</td>\n",
              "      <td>0.0</td>\n",
              "      <td>1.0</td>\n",
              "      <td>47.0</td>\n",
              "      <td>4</td>\n",
              "      <td>0</td>\n",
              "      <td>0</td>\n",
              "      <td>0</td>\n",
              "      <td>0</td>\n",
              "      <td>1</td>\n",
              "    </tr>\n",
              "    <tr>\n",
              "      <th>4</th>\n",
              "      <td>1</td>\n",
              "      <td>0</td>\n",
              "      <td>80000.0</td>\n",
              "      <td>5.0</td>\n",
              "      <td>4</td>\n",
              "      <td>1.0</td>\n",
              "      <td>4.0</td>\n",
              "      <td>46.0</td>\n",
              "      <td>1</td>\n",
              "      <td>0</td>\n",
              "      <td>0</td>\n",
              "      <td>0</td>\n",
              "      <td>0</td>\n",
              "      <td>1</td>\n",
              "    </tr>\n",
              "    <tr>\n",
              "      <th>...</th>\n",
              "      <td>...</td>\n",
              "      <td>...</td>\n",
              "      <td>...</td>\n",
              "      <td>...</td>\n",
              "      <td>...</td>\n",
              "      <td>...</td>\n",
              "      <td>...</td>\n",
              "      <td>...</td>\n",
              "      <td>...</td>\n",
              "      <td>...</td>\n",
              "      <td>...</td>\n",
              "      <td>...</td>\n",
              "      <td>...</td>\n",
              "      <td>...</td>\n",
              "    </tr>\n",
              "    <tr>\n",
              "      <th>18479</th>\n",
              "      <td>0</td>\n",
              "      <td>1</td>\n",
              "      <td>30000.0</td>\n",
              "      <td>1.0</td>\n",
              "      <td>2</td>\n",
              "      <td>1.0</td>\n",
              "      <td>0.0</td>\n",
              "      <td>56.0</td>\n",
              "      <td>0</td>\n",
              "      <td>1</td>\n",
              "      <td>0</td>\n",
              "      <td>0</td>\n",
              "      <td>0</td>\n",
              "      <td>0</td>\n",
              "    </tr>\n",
              "    <tr>\n",
              "      <th>18480</th>\n",
              "      <td>1</td>\n",
              "      <td>0</td>\n",
              "      <td>30000.0</td>\n",
              "      <td>3.0</td>\n",
              "      <td>2</td>\n",
              "      <td>1.0</td>\n",
              "      <td>0.0</td>\n",
              "      <td>54.0</td>\n",
              "      <td>0</td>\n",
              "      <td>1</td>\n",
              "      <td>0</td>\n",
              "      <td>0</td>\n",
              "      <td>0</td>\n",
              "      <td>0</td>\n",
              "    </tr>\n",
              "    <tr>\n",
              "      <th>18481</th>\n",
              "      <td>1</td>\n",
              "      <td>1</td>\n",
              "      <td>30000.0</td>\n",
              "      <td>3.0</td>\n",
              "      <td>2</td>\n",
              "      <td>0.0</td>\n",
              "      <td>0.0</td>\n",
              "      <td>55.0</td>\n",
              "      <td>0</td>\n",
              "      <td>1</td>\n",
              "      <td>0</td>\n",
              "      <td>0</td>\n",
              "      <td>0</td>\n",
              "      <td>0</td>\n",
              "    </tr>\n",
              "    <tr>\n",
              "      <th>18482</th>\n",
              "      <td>0</td>\n",
              "      <td>1</td>\n",
              "      <td>30000.0</td>\n",
              "      <td>3.0</td>\n",
              "      <td>4</td>\n",
              "      <td>1.0</td>\n",
              "      <td>0.0</td>\n",
              "      <td>56.0</td>\n",
              "      <td>0</td>\n",
              "      <td>1</td>\n",
              "      <td>0</td>\n",
              "      <td>0</td>\n",
              "      <td>0</td>\n",
              "      <td>0</td>\n",
              "    </tr>\n",
              "    <tr>\n",
              "      <th>18483</th>\n",
              "      <td>0</td>\n",
              "      <td>1</td>\n",
              "      <td>30000.0</td>\n",
              "      <td>0.0</td>\n",
              "      <td>4</td>\n",
              "      <td>1.0</td>\n",
              "      <td>0.0</td>\n",
              "      <td>55.0</td>\n",
              "      <td>0</td>\n",
              "      <td>1</td>\n",
              "      <td>0</td>\n",
              "      <td>0</td>\n",
              "      <td>0</td>\n",
              "      <td>0</td>\n",
              "    </tr>\n",
              "  </tbody>\n",
              "</table>\n",
              "<p>18484 rows × 14 columns</p>\n",
              "</div>\n",
              "      <button class=\"colab-df-convert\" onclick=\"convertToInteractive('df-0b599b37-7d7f-469f-9de8-e25ef7215389')\"\n",
              "              title=\"Convert this dataframe to an interactive table.\"\n",
              "              style=\"display:none;\">\n",
              "        \n",
              "  <svg xmlns=\"http://www.w3.org/2000/svg\" height=\"24px\"viewBox=\"0 0 24 24\"\n",
              "       width=\"24px\">\n",
              "    <path d=\"M0 0h24v24H0V0z\" fill=\"none\"/>\n",
              "    <path d=\"M18.56 5.44l.94 2.06.94-2.06 2.06-.94-2.06-.94-.94-2.06-.94 2.06-2.06.94zm-11 1L8.5 8.5l.94-2.06 2.06-.94-2.06-.94L8.5 2.5l-.94 2.06-2.06.94zm10 10l.94 2.06.94-2.06 2.06-.94-2.06-.94-.94-2.06-.94 2.06-2.06.94z\"/><path d=\"M17.41 7.96l-1.37-1.37c-.4-.4-.92-.59-1.43-.59-.52 0-1.04.2-1.43.59L10.3 9.45l-7.72 7.72c-.78.78-.78 2.05 0 2.83L4 21.41c.39.39.9.59 1.41.59.51 0 1.02-.2 1.41-.59l7.78-7.78 2.81-2.81c.8-.78.8-2.07 0-2.86zM5.41 20L4 18.59l7.72-7.72 1.47 1.35L5.41 20z\"/>\n",
              "  </svg>\n",
              "      </button>\n",
              "      \n",
              "  <style>\n",
              "    .colab-df-container {\n",
              "      display:flex;\n",
              "      flex-wrap:wrap;\n",
              "      gap: 12px;\n",
              "    }\n",
              "\n",
              "    .colab-df-convert {\n",
              "      background-color: #E8F0FE;\n",
              "      border: none;\n",
              "      border-radius: 50%;\n",
              "      cursor: pointer;\n",
              "      display: none;\n",
              "      fill: #1967D2;\n",
              "      height: 32px;\n",
              "      padding: 0 0 0 0;\n",
              "      width: 32px;\n",
              "    }\n",
              "\n",
              "    .colab-df-convert:hover {\n",
              "      background-color: #E2EBFA;\n",
              "      box-shadow: 0px 1px 2px rgba(60, 64, 67, 0.3), 0px 1px 3px 1px rgba(60, 64, 67, 0.15);\n",
              "      fill: #174EA6;\n",
              "    }\n",
              "\n",
              "    [theme=dark] .colab-df-convert {\n",
              "      background-color: #3B4455;\n",
              "      fill: #D2E3FC;\n",
              "    }\n",
              "\n",
              "    [theme=dark] .colab-df-convert:hover {\n",
              "      background-color: #434B5C;\n",
              "      box-shadow: 0px 1px 3px 1px rgba(0, 0, 0, 0.15);\n",
              "      filter: drop-shadow(0px 1px 2px rgba(0, 0, 0, 0.3));\n",
              "      fill: #FFFFFF;\n",
              "    }\n",
              "  </style>\n",
              "\n",
              "      <script>\n",
              "        const buttonEl =\n",
              "          document.querySelector('#df-0b599b37-7d7f-469f-9de8-e25ef7215389 button.colab-df-convert');\n",
              "        buttonEl.style.display =\n",
              "          google.colab.kernel.accessAllowed ? 'block' : 'none';\n",
              "\n",
              "        async function convertToInteractive(key) {\n",
              "          const element = document.querySelector('#df-0b599b37-7d7f-469f-9de8-e25ef7215389');\n",
              "          const dataTable =\n",
              "            await google.colab.kernel.invokeFunction('convertToInteractive',\n",
              "                                                     [key], {});\n",
              "          if (!dataTable) return;\n",
              "\n",
              "          const docLinkHtml = 'Like what you see? Visit the ' +\n",
              "            '<a target=\"_blank\" href=https://colab.research.google.com/notebooks/data_table.ipynb>data table notebook</a>'\n",
              "            + ' to learn more about interactive tables.';\n",
              "          element.innerHTML = '';\n",
              "          dataTable['output_type'] = 'display_data';\n",
              "          await google.colab.output.renderOutput(dataTable, element);\n",
              "          const docLink = document.createElement('div');\n",
              "          docLink.innerHTML = docLinkHtml;\n",
              "          element.appendChild(docLink);\n",
              "        }\n",
              "      </script>\n",
              "    </div>\n",
              "  </div>\n",
              "  "
            ]
          },
          "metadata": {},
          "execution_count": 6
        }
      ],
      "source": [
        "X"
      ]
    },
    {
      "cell_type": "markdown",
      "metadata": {
        "id": "JvQx7egsTd1M"
      },
      "source": [
        "<p><strong>Paso: División del conjunto de datos en entrenamiento y pruebas </strong></br>\n",
        "Para poder identificar la mejor parametrización de los algoritmos se usan diferentes estrategias. Una de ellas se llama Hold-Out y consiste en dejar un porcentaje para entrenar y otra para probar. Normalmente 70% para entrenar y 30% para probar."
      ]
    },
    {
      "cell_type": "code",
      "execution_count": null,
      "metadata": {
        "id": "u-FImROaTd1M"
      },
      "outputs": [],
      "source": [
        "# Dividir el conjunto de datos conjunto de entrenamiento y en conjunto de pruebas\n",
        "X_train, X_test, y_train, y_test = train_test_split(X, y, test_size=0.3, random_state=1) # 70% entrenamiento y 30% prueba"
      ]
    },
    {
      "cell_type": "code",
      "source": [
        "y_train"
      ],
      "metadata": {
        "colab": {
          "base_uri": "https://localhost:8080/"
        },
        "id": "Bl0qhWknmcIz",
        "outputId": "ef9b1c4a-6d73-4981-d253-777feebacc4d"
      },
      "execution_count": null,
      "outputs": [
        {
          "output_type": "execute_result",
          "data": {
            "text/plain": [
              "3692     0.0\n",
              "13587    1.0\n",
              "15012    1.0\n",
              "9626     1.0\n",
              "12333    0.0\n",
              "        ... \n",
              "10955    1.0\n",
              "17289    0.0\n",
              "5192     0.0\n",
              "12172    1.0\n",
              "235      0.0\n",
              "Name: CompradorBicleta, Length: 12938, dtype: object"
            ]
          },
          "metadata": {},
          "execution_count": 10
        }
      ]
    },
    {
      "cell_type": "code",
      "source": [
        "y_test"
      ],
      "metadata": {
        "colab": {
          "base_uri": "https://localhost:8080/"
        },
        "id": "a8KZdG3Pm1wV",
        "outputId": "a87d0609-d312-4cbe-864a-0b27f5e16507"
      },
      "execution_count": null,
      "outputs": [
        {
          "output_type": "execute_result",
          "data": {
            "text/plain": [
              "10499    0.0\n",
              "13928    0.0\n",
              "8291     0.0\n",
              "13807    1.0\n",
              "12558    0.0\n",
              "        ... \n",
              "8067     1.0\n",
              "16115    0.0\n",
              "16015    0.0\n",
              "1635     0.0\n",
              "15546    1.0\n",
              "Name: CompradorBicleta, Length: 5546, dtype: object"
            ]
          },
          "metadata": {},
          "execution_count": 11
        }
      ]
    },
    {
      "cell_type": "markdown",
      "metadata": {
        "id": "rtsvks5cTd1N"
      },
      "source": [
        "# Métodos de ensamble con modelos de una única técnica"
      ]
    },
    {
      "cell_type": "markdown",
      "metadata": {
        "id": "GEgHT0QsTd1N"
      },
      "source": [
        "## Random Forest\n",
        "Se entrenará el modelo con el conjunto de entrenamiento (X_train y Y_train) y luego haremos la predicción al conjunto de prueba (X_test).\n",
        "Selecciona una muestra del conjunto de atributos de entrada."
      ]
    },
    {
      "cell_type": "code",
      "execution_count": null,
      "metadata": {
        "colab": {
          "base_uri": "https://localhost:8080/"
        },
        "id": "tIKowtp1Td1N",
        "outputId": "737002a6-0af8-46f2-ffa7-8e573a2cf5cb"
      },
      "outputs": [
        {
          "output_type": "execute_result",
          "data": {
            "text/plain": [
              "0.7893977641543455"
            ]
          },
          "metadata": {},
          "execution_count": 7
        }
      ],
      "source": [
        "from sklearn.ensemble import RandomForestClassifier # Importa el clasificador tipo ensamble llamado Random Forest\n",
        "\n",
        "# Crear el clasificador\n",
        "#clfRandomForest = RandomForestClassifier(n_estimators=200, n_jobs=2, random_state=0,  criterion=\"entropy\", class_weight=\"balanced\")\n",
        "clfRandomForest = RandomForestClassifier(max_samples=10000, n_estimators=100, n_jobs=2, random_state=0,  criterion=\"gini\", class_weight=\"balanced\")\n",
        "\n",
        "\n",
        "# Entrenar el Random Forest\n",
        "clfRandomForest.fit(X_train, y_train)\n",
        "\n",
        "#Predecir la variable objetivo en los datos de prueba (probar el modelo)\n",
        "y_predRandom = clfRandomForest.predict(X_test)\n",
        "clfRandomForest.score(X_test, y_test)"
      ]
    },
    {
      "cell_type": "code",
      "source": [],
      "metadata": {
        "id": "lqiflpDQn_6j"
      },
      "execution_count": null,
      "outputs": []
    },
    {
      "cell_type": "markdown",
      "metadata": {
        "id": "CoixtI1XTd1N"
      },
      "source": [
        "## Bagging\n",
        "Se entrenará el modelo con el conjunto de entrenamiento (X_train y Y_train) y luego haremos la predicción al conjunto de prueba (X_test).\n",
        "Selecciona una muestra del conjunto de entrenamiento (en su versión original) o también una muestra de los atributos de entrada (en python)."
      ]
    },
    {
      "cell_type": "code",
      "execution_count": null,
      "metadata": {
        "colab": {
          "base_uri": "https://localhost:8080/"
        },
        "id": "bCvjo9POTd1O",
        "outputId": "74c03ebd-44dc-4784-b4d7-e5037858400c"
      },
      "outputs": [
        {
          "output_type": "execute_result",
          "data": {
            "text/plain": [
              "0.7930039668229355"
            ]
          },
          "metadata": {},
          "execution_count": 10
        }
      ],
      "source": [
        "from sklearn.ensemble import BaggingClassifier\n",
        "from sklearn.neighbors import KNeighborsClassifier\n",
        "\n",
        "# Crear el clasificador\n",
        "clfBagging = BaggingClassifier(KNeighborsClassifier(n_neighbors=5), max_samples=0.9, max_features=0.9, random_state=0, n_estimators=100)\n",
        "#Acá usamos KNN, pero puede ser otro modelo\n",
        "\n",
        "# Entrenar el Bagging\n",
        "clfBagging.fit(X_train, y_train)\n",
        "\n",
        "#Predecir la variable objetivo en los datos de prueba (probar el modelo)\n",
        "y_predBagging = clfBagging.predict(X_test)\n",
        "clfBagging.score(X_test, y_test)\n"
      ]
    },
    {
      "cell_type": "code",
      "execution_count": null,
      "metadata": {
        "colab": {
          "base_uri": "https://localhost:8080/"
        },
        "id": "DMaTYRrvTd1O",
        "outputId": "cc779fca-e704-4f56-98c1-8739f95a33d2"
      },
      "outputs": [
        {
          "output_type": "execute_result",
          "data": {
            "text/plain": [
              "0.7782185358817165"
            ]
          },
          "metadata": {},
          "execution_count": 13
        }
      ],
      "source": [
        "# Podemos también aplicar el flujo de actividades sobre los datos y terminar ejecutando una técnica usando el objeto Pipeline. En este caso aplicamos primero normalización min-max y luego sí aplicamos el modelo KNN\n",
        "pipe = Pipeline([('scaler', MinMaxScaler()), ('bag', BaggingClassifier(KNeighborsClassifier(n_neighbors=5, weights='distance'), max_samples=0.9, max_features=0.9, random_state=0, n_estimators=100))])\n",
        "pipe.fit(X_train, y_train)\n",
        "pipe.score(X_test, y_test)"
      ]
    },
    {
      "cell_type": "markdown",
      "metadata": {
        "id": "iGwSz6jSTd1O"
      },
      "source": [
        "## ExtraTree\n",
        "Se entrenará el modelo con el conjunto de entrenamiento (X_train y Y_train) y luego haremos la predicción al conjunto de prueba (X_test)."
      ]
    },
    {
      "cell_type": "code",
      "execution_count": null,
      "metadata": {
        "colab": {
          "base_uri": "https://localhost:8080/"
        },
        "id": "PlhLok0fTd1P",
        "outputId": "947fc82a-03b1-46c0-a4ae-130ff50ffb05"
      },
      "outputs": [
        {
          "output_type": "execute_result",
          "data": {
            "text/plain": [
              "0.796790479624955"
            ]
          },
          "metadata": {},
          "execution_count": 14
        }
      ],
      "source": [
        "from sklearn.ensemble import ExtraTreesClassifier\n",
        "\n",
        "# Crear el clasificador\n",
        "clfExtraTrees = ExtraTreesClassifier(n_estimators=200, max_depth=None, min_samples_split = 10, random_state=0)\n",
        "\n",
        "# Entrenar el Extreme Trees\n",
        "clfExtraTrees.fit(X_train, y_train)\n",
        "\n",
        "#Predecir la variable objetivo en los datos de prueba (probar el modelo)\n",
        "y_predExtra = clfExtraTrees.predict(X_test)\n",
        "clfExtraTrees.score(X_test, y_test)"
      ]
    },
    {
      "cell_type": "markdown",
      "metadata": {
        "id": "F7MQBT--Td1P"
      },
      "source": [
        "## Ada Boost\n",
        "Se entrenará el modelo con el conjunto de entrenamiento (X_train y Y_train), se usa primero todo el conjunto de entrenamiento con pesos normales, en la siguiente iteración se le da más peso a los que se clasificaron erróneamente en la iteración inicial."
      ]
    },
    {
      "cell_type": "code",
      "execution_count": null,
      "metadata": {
        "colab": {
          "base_uri": "https://localhost:8080/"
        },
        "id": "UYvvY1q9Td1P",
        "outputId": "6b105a62-c115-4f32-8fa2-843d2a6816f2"
      },
      "outputs": [
        {
          "output_type": "execute_result",
          "data": {
            "text/plain": [
              "0.785611251352326"
            ]
          },
          "metadata": {},
          "execution_count": 20
        }
      ],
      "source": [
        "from sklearn.ensemble import AdaBoostClassifier\n",
        "from sklearn.tree import DecisionTreeClassifier\n",
        "# Crear el clasificador\n",
        "clfAdaBoost = AdaBoostClassifier(DecisionTreeClassifier(max_depth=4), n_estimators=200, random_state=0)\n",
        "\n",
        "# Entrenar el AdaBoost\n",
        "clfAdaBoost.fit(X_train, y_train)\n",
        "\n",
        "#Predecir la variable objetivo en los datos de prueba (probar el modelo)\n",
        "y_predAda = clfAdaBoost.predict(X_test)\n",
        "clfAdaBoost.score(X_test, y_test)\n"
      ]
    },
    {
      "cell_type": "markdown",
      "metadata": {
        "id": "t1nPjg7vTd1Q"
      },
      "source": [
        "## Gradient Boosting\n",
        "Se entrenará el modelo con el conjunto de entrenamiento (X_train y Y_train) y luego haremos la predicción al conjunto de prueba (X_test).\n",
        "Cada iteración busca optimizar la función de pérdida (loss function) seleccionando el árbol que más apunta  en la dirección del gradiente negativo, es decir el que más reduce el error (para clasificación, los registros mal clasificados)."
      ]
    },
    {
      "cell_type": "code",
      "execution_count": null,
      "metadata": {
        "colab": {
          "base_uri": "https://localhost:8080/"
        },
        "id": "RNqm8qcoTd1Q",
        "outputId": "14b45aa7-bffa-4712-c111-0f35e563412f"
      },
      "outputs": [
        {
          "output_type": "execute_result",
          "data": {
            "text/plain": [
              "0.783086909484313"
            ]
          },
          "metadata": {},
          "execution_count": 21
        }
      ],
      "source": [
        "from sklearn.ensemble import GradientBoostingClassifier\n",
        "\n",
        "# Crear el clasificador\n",
        "clfGradientBoosting = GradientBoostingClassifier(n_estimators=200, learning_rate=0.1, max_depth=5, random_state=0)\n",
        "\n",
        "# Entrenar el Gradient Boosting\n",
        "clfGradientBoosting.fit(X_train, y_train)\n",
        "\n",
        "#Predecir la variable objetivo en los datos de prueba (probar el modelo)\n",
        "y_predGradient = clfGradientBoosting.predict(X_test)\n",
        "clfGradientBoosting.score(X_test, y_test)\n"
      ]
    },
    {
      "cell_type": "code",
      "execution_count": null,
      "metadata": {
        "colab": {
          "base_uri": "https://localhost:8080/"
        },
        "id": "V_3gSO0rTd1Q",
        "outputId": "fe0dec9b-dcc7-4e84-88eb-1f7b6181fcf2"
      },
      "outputs": [
        {
          "output_type": "stream",
          "name": "stdout",
          "text": [
            "Mejor score: 0.803775 usando {'learning_rate': 0.1, 'n_estimators': 600}\n",
            "0.744968 (0.009662) con: {'learning_rate': 0.01, 'n_estimators': 500}\n",
            "0.750269 (0.009971) con: {'learning_rate': 0.01, 'n_estimators': 600}\n",
            "0.803721 (0.010226) con: {'learning_rate': 0.1, 'n_estimators': 500}\n",
            "0.803775 (0.011684) con: {'learning_rate': 0.1, 'n_estimators': 600}\n"
          ]
        }
      ],
      "source": [
        "from sklearn.ensemble import GradientBoostingClassifier\n",
        "from sklearn.model_selection import GridSearchCV\n",
        "from sklearn.model_selection import StratifiedKFold\n",
        "\n",
        "model = GradientBoostingClassifier(max_depth=5, random_state=0)\n",
        "# Recorrido de parametros basado en Grid\n",
        "n_estimators = [500, 600]\n",
        "learning_rate = [0.01, 0.1]\n",
        "param_grid = dict(learning_rate=learning_rate, n_estimators=n_estimators)\n",
        "kfold = StratifiedKFold(n_splits=10, shuffle=True, random_state=7)\n",
        "grid_search = GridSearchCV(model, param_grid, scoring=\"accuracy\", n_jobs=-1, cv=kfold)\n",
        "grid_result = grid_search.fit(X, y)\n",
        "# Resumen de resultados\n",
        "print(\"Mejor score: %f usando %s\" % (grid_result.best_score_, grid_result.best_params_))\n",
        "means = grid_result.cv_results_['mean_test_score']\n",
        "stds = grid_result.cv_results_['std_test_score']\n",
        "params = grid_result.cv_results_['params']\n",
        "for mean, stdev, param in zip(means, stds, params):\n",
        "\tprint(\"%f (%f) con: %r\" % (mean, stdev, param))\n",
        "# Más información de las métricas para analizar cuál es el mejor modelo https://scikit-learn.org/stable/modules/model_evaluation.html"
      ]
    },
    {
      "cell_type": "markdown",
      "metadata": {
        "id": "PqWndNNaTd1Q"
      },
      "source": [
        "# Métodos de ensamble que pueden integrar diferentes tipos de Modelos"
      ]
    },
    {
      "cell_type": "markdown",
      "metadata": {
        "id": "L706l0KNTd1Q"
      },
      "source": [
        "## Voting\n",
        "Se entrenará el modelo con el conjunto de entrenamiento (X_train y Y_train) y luego haremos la predicción al conjunto de prueba (X_test).\n",
        "Permite integrar diferentes modelos usando una función ponderada de votación."
      ]
    },
    {
      "cell_type": "code",
      "execution_count": null,
      "metadata": {
        "colab": {
          "base_uri": "https://localhost:8080/"
        },
        "id": "gnIdHXRmTd1R",
        "outputId": "705bac6f-833b-44b0-d32a-721ec3cc661c"
      },
      "outputs": [
        {
          "output_type": "execute_result",
          "data": {
            "text/plain": [
              "0.786332491886044"
            ]
          },
          "metadata": {},
          "execution_count": 15
        }
      ],
      "source": [
        "from sklearn.tree import DecisionTreeClassifier\n",
        "from sklearn.neighbors import KNeighborsClassifier\n",
        "from sklearn.svm import SVC\n",
        "from itertools import product\n",
        "from sklearn.ensemble import VotingClassifier\n",
        "\n",
        "# Training classifiers\n",
        "clf1 = DecisionTreeClassifier(max_depth=5,random_state=0)\n",
        "clf2 = KNeighborsClassifier(n_neighbors=5)\n",
        "clf3 = SVC(kernel='rbf', probability=True, random_state=0)\n",
        "eclf = VotingClassifier(estimators=[('dt', clf1), ('knn', clf2), ('svc', clf3)], voting='soft', weights=[2, 1, 2])\n",
        "\n",
        "clf1 = clf1.fit(X, y)\n",
        "clf2 = clf2.fit(X, y)\n",
        "clf3 = clf3.fit(X, y)\n",
        "clfVoting = eclf.fit(X, y)\n",
        "\n",
        "#Predecir la variable objetivo en los datos de prueba (probar el modelo)\n",
        "y_predVoting = clfVoting.predict(X_test)\n",
        "clfVoting.score(X_test, y_test)"
      ]
    },
    {
      "cell_type": "markdown",
      "source": [
        "# Ahora tú\n",
        "Agrega otro clasificador y que tenga peso 1 en la votación."
      ],
      "metadata": {
        "id": "8muNdf3OpMP1"
      }
    },
    {
      "cell_type": "code",
      "source": [
        "# Agrega aquí el código"
      ],
      "metadata": {
        "id": "ydSd3D3FpU9c"
      },
      "execution_count": null,
      "outputs": []
    },
    {
      "cell_type": "markdown",
      "metadata": {
        "id": "D0dIUxwpTd1R"
      },
      "source": [
        "## Stacking\n",
        "Se entrenará el modelo con el conjunto de entrenamiento (X_train y Y_train) y luego haremos la predicción al conjunto de prueba (X_test). Permite apilar varios modelos de clasificación base y luego utiliza como función de combinación un modelo de clasificación que aprende de los errores de los clasificadores base."
      ]
    },
    {
      "cell_type": "code",
      "execution_count": null,
      "metadata": {
        "colab": {
          "base_uri": "https://localhost:8080/"
        },
        "id": "KF7PspX5Td1R",
        "outputId": "78f211de-81f6-48ee-e28f-c794dfec0a7c"
      },
      "outputs": [
        {
          "output_type": "execute_result",
          "data": {
            "text/plain": [
              "0.791020555355211"
            ]
          },
          "metadata": {},
          "execution_count": 16
        }
      ],
      "source": [
        "from sklearn.ensemble import RandomForestClassifier\n",
        "from sklearn.svm import LinearSVC\n",
        "from sklearn.linear_model import LogisticRegression\n",
        "from sklearn.ensemble import StackingClassifier\n",
        "\n",
        "classifiers = [\n",
        "    ('rf', RandomForestClassifier(n_estimators=100, random_state=0)),\n",
        "    ('svr', make_pipeline(StandardScaler(), LinearSVC(max_iter= 2000, random_state=0)))\n",
        " ]\n",
        "clfStacking = StackingClassifier(\n",
        "      estimators=classifiers, final_estimator=LogisticRegression()\n",
        ")\n",
        "clfStacking.fit(X_train, y_train)\n",
        "clfStacking.score(X_test, y_test)"
      ]
    },
    {
      "cell_type": "markdown",
      "metadata": {
        "id": "0ZAj1oXiTd1R"
      },
      "source": [
        "# Ahora tú\n",
        "Grafica la curva ROC que compare al menos 3 de los métodos de ensamble"
      ]
    },
    {
      "cell_type": "code",
      "execution_count": null,
      "metadata": {
        "id": "OLLdpG4FTd1R"
      },
      "outputs": [],
      "source": [
        "# Agrega el código acá"
      ]
    },
    {
      "cell_type": "markdown",
      "metadata": {
        "id": "vXM-UP9rTd1S"
      },
      "source": [
        "## Importancia de atributos\n",
        "Identificaremos la importancia que tuvieron los atributos en uno de los modelos que permite tener esta información (Random Forest)"
      ]
    },
    {
      "cell_type": "code",
      "execution_count": null,
      "metadata": {
        "colab": {
          "base_uri": "https://localhost:8080/"
        },
        "id": "y7HD0YuJTd1S",
        "outputId": "96a0d368-ce9e-4e32-e313-692ed1dd0f52"
      },
      "outputs": [
        {
          "output_type": "stream",
          "name": "stdout",
          "text": [
            "Importancia de atributos:\n",
            "NumeroCarros: atributo 7 (0.315425)\n",
            "Sexo: atributo 2 (0.143031)\n",
            "TieneCasa: atributo 6 (0.096987)\n",
            "IngresosAnuales: atributo 3 (0.094754)\n",
            "Edad: atributo 8 (0.092140)\n",
            "TotalHijos: atributo 4 (0.062460)\n",
            "Ocu_Profesional: atributo 0 (0.052413)\n",
            "EstadoCivil: atributo 1 (0.050486)\n",
            "Educacion: atributo 5 (0.042588)\n",
            "Ocu_Obrero: atributo 12 (0.013307)\n",
            "Ocu_Obrero especializado: atributo 13 (0.012988)\n",
            "Ocu_Administrativo: atributo 10 (0.008797)\n",
            "DistanciaTrabajo: atributo 9 (0.008642)\n",
            "Ocu_Gestión: atributo 11 (0.005982)\n"
          ]
        }
      ],
      "source": [
        "importances = clfRandomForest.feature_importances_\n",
        "std = np.std([tree.feature_importances_ for tree in clfRandomForest.estimators_], axis=0)\n",
        "indices = np.argsort(importances)[::-1]\n",
        "\n",
        "print(\"Importancia de atributos:\")\n",
        "\n",
        "for f in range(X.shape[1]):\n",
        "    print(\"%s: atributo %d (%f)\" % (X.columns.values[indices[f]-1], indices[f], importances[indices[f]]))\n",
        "  "
      ]
    },
    {
      "cell_type": "code",
      "execution_count": null,
      "metadata": {
        "colab": {
          "background_save": true
        },
        "id": "pZB32wksTd1S",
        "outputId": "8544094f-fb68-4056-d104-ae5bfffed693"
      },
      "outputs": [
        {
          "data": {
            "image/png": "[encoded data removed]",
            "text/plain": [
              "<Figure size 432x288 with 1 Axes>"
            ]
          },
          "metadata": {},
          "output_type": "display_data"
        },
        {
          "data": {
            "text/plain": [
              "None"
            ]
          },
          "metadata": {},
          "output_type": "display_data"
        }
      ],
      "source": [
        "# Graficar la importancia\n",
        "plt.figure()\n",
        "plt.title(\"Importancia de los atributos de entrada\")\n",
        "plt.bar(range(X.shape[1]), importances[indices], color=\"r\", yerr=std[indices], align=\"center\")\n",
        "plt.xticks(range(X.shape[1]), indices)\n",
        "plt.xlim([-1, X.shape[1]])\n",
        "image= plt.show()\n",
        "display(image)"
      ]
    }
  ],
  "metadata": {
    "application/vnd.databricks.v1+notebook": {
      "dashboards": [],
      "language": "python",
      "notebookMetadata": {
        "pythonIndentUnit": 2
      },
      "notebookName": "EnsamblesModelosUnicoHibrido",
      "notebookOrigID": 4164018856415613,
      "widgets": {}
    },
    "colab": {
      "provenance": [],
      "toc_visible": true
    },
    "kernelspec": {
      "display_name": "Python 3",
      "name": "python3"
    },
    "language_info": {
      "name": "python"
    }
  },
  "nbformat": 4,
  "nbformat_minor": 0
}